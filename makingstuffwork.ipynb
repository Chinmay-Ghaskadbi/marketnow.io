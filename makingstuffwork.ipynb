{
 "cells": [
  {
   "cell_type": "code",
   "execution_count": 5,
   "metadata": {},
   "outputs": [],
   "source": [
    "import torch\n",
    "from diffusers import AnimateDiffPipeline, LCMScheduler, MotionAdapter\n",
    "from diffusers.utils import export_to_video\n",
    "\n",
    "import numpy as np\n"
   ]
  },
  {
   "cell_type": "code",
   "execution_count": 6,
   "metadata": {},
   "outputs": [],
   "source": [
    "def get_video(prompt, resolution):\n",
    "  image_width, image_height = resolution\n",
    "\n",
    "  adapter = MotionAdapter.from_pretrained(\"wangfuyun/AnimateLCM\", torch_dtype=torch.float16)\n",
    "\n",
    "  pipe = AnimateDiffPipeline.from_pretrained(\"emilianJR/epiCRealism\", motion_adapter=adapter, torch_dtype=torch.float16)\n",
    "  pipe.scheduler = LCMScheduler.from_config(pipe.scheduler.config, beta_schedule=\"linear\")\n",
    "  pipe.load_lora_weights(\"wangfuyun/AnimateLCM\", weight_name=\"AnimateLCM_sd15_t2v_lora.safetensors\", adapter_name=\"lcm-lora\")\n",
    "  pipe.set_adapters([\"lcm-lora\"], [0.8])\n",
    "  pipe.enable_vae_slicing()\n",
    "  pipe.enable_model_cpu_offload()\n",
    "\n",
    "  output = pipe(\n",
    "    prompt=prompt,\n",
    "    negative_prompt=\"bad quality, worse quality, low resolution\",\n",
    "    num_frames=30,\n",
    "    image_width=image_width,\n",
    "    image_height=image_height,\n",
    "    guidance_scale=2.0,\n",
    "    num_inference_steps=24,\n",
    "    generator=torch.Generator(\"cpu\").manual_seed(0),)\n",
    "  frames = output.frames[0]  \n",
    "\n",
    "  return export_to_video(frames, \"video.mp4\")\n"
   ]
  },
  {
   "cell_type": "code",
   "execution_count": 7,
   "metadata": {},
   "outputs": [],
   "source": [
    "def control_center(prompt, platform, types):\n",
    "    resolution_sizes = {\n",
    "        \"Instagram Reel\": (1080, 1920),\n",
    "        \"Instagram Post\": (1080, 1080),\n",
    "        \"X Post\": (1200, 675),\n",
    "        \"Tik Tok\": (1080, 1920)\n",
    "    }\n",
    "    platform_resolution = resolution_sizes.get(platform, (1080, 1080))\n",
    "    types = types.lower()\n",
    "\n",
    "    if types == \"video\":\n",
    "        return get_video(prompt, platform_resolution)\n",
    "    elif types == \"image\":\n",
    "        return get_image(prompt, platform_resolution)\n",
    "    elif types == \"audio\":\n",
    "        return get_voice(prompt, filename=\"audio.mp3\")\n",
    "    elif types == \"only script\":\n",
    "        return get_script(prompt)"
   ]
  },
  {
   "cell_type": "code",
   "execution_count": 8,
   "metadata": {},
   "outputs": [
    {
     "name": "stderr",
     "output_type": "stream",
     "text": [
      "Loading pipeline components...: 100%|██████████| 6/6 [00:11<00:00,  1.99s/it]\n",
      "100%|██████████| 24/24 [15:12<00:00, 38.02s/it]\n"
     ]
    },
    {
     "data": {
      "text/plain": [
       "'video.mp4'"
      ]
     },
     "execution_count": 8,
     "metadata": {},
     "output_type": "execute_result"
    }
   ],
   "source": [
    "control_center(\"sunrise in the mountains\", \"Instagram Reel\", \"video\")"
   ]
  },
  {
   "cell_type": "code",
   "execution_count": null,
   "metadata": {},
   "outputs": [],
   "source": []
  }
 ],
 "metadata": {
  "kernelspec": {
   "display_name": "capstonev2",
   "language": "python",
   "name": "python3"
  },
  "language_info": {
   "codemirror_mode": {
    "name": "ipython",
    "version": 3
   },
   "file_extension": ".py",
   "mimetype": "text/x-python",
   "name": "python",
   "nbconvert_exporter": "python",
   "pygments_lexer": "ipython3",
   "version": "3.10.15"
  }
 },
 "nbformat": 4,
 "nbformat_minor": 2
}
